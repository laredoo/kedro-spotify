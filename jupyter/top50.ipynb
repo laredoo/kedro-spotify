{
 "cells": [
  {
   "cell_type": "code",
   "execution_count": 493,
   "id": "f4bf61c0",
   "metadata": {},
   "outputs": [],
   "source": [
    "import pandas as pd\n",
    "import numpy as np"
   ]
  },
  {
   "cell_type": "code",
   "execution_count": 494,
   "id": "bfb910d6",
   "metadata": {},
   "outputs": [],
   "source": [
    "def gran_date(row):\n",
    "\n",
    "    size = len(row['Date'])\n",
    "    if size == 10:\n",
    "        month = row['Date'].split('-')[1]\n",
    "        day = row['Date'].split('-')[2]\n",
    "        return month\n",
    "    else:\n",
    "        return np.nan\n",
    "\n",
    "# month = gran_date(df_copy)"
   ]
  },
  {
   "cell_type": "code",
   "execution_count": 495,
   "id": "c1056a8e",
   "metadata": {},
   "outputs": [],
   "source": [
    "def gran_mode(row):\n",
    "    return 'Major' if row['Mode'] == 1 else 'Minor'"
   ]
  },
  {
   "cell_type": "code",
   "execution_count": 496,
   "id": "4a102aa4",
   "metadata": {},
   "outputs": [
    {
     "data": {
      "text/html": [
       "<div>\n",
       "<style scoped>\n",
       "    .dataframe tbody tr th:only-of-type {\n",
       "        vertical-align: middle;\n",
       "    }\n",
       "\n",
       "    .dataframe tbody tr th {\n",
       "        vertical-align: top;\n",
       "    }\n",
       "\n",
       "    .dataframe thead th {\n",
       "        text-align: right;\n",
       "    }\n",
       "</style>\n",
       "<table border=\"1\" class=\"dataframe\">\n",
       "  <thead>\n",
       "    <tr style=\"text-align: right;\">\n",
       "      <th></th>\n",
       "      <th>Popularity</th>\n",
       "      <th>Danceability</th>\n",
       "      <th>Acousticness</th>\n",
       "      <th>duration</th>\n",
       "      <th>Energy</th>\n",
       "      <th>Instrumentalness</th>\n",
       "      <th>Liveness</th>\n",
       "      <th>Loudness</th>\n",
       "      <th>Speechiness</th>\n",
       "      <th>Tempo</th>\n",
       "      <th>...</th>\n",
       "      <th>Country_SWE</th>\n",
       "      <th>Country_THA</th>\n",
       "      <th>Country_TUR</th>\n",
       "      <th>Country_TWN</th>\n",
       "      <th>Country_UKR</th>\n",
       "      <th>Country_URY</th>\n",
       "      <th>Country_USA</th>\n",
       "      <th>Country_VEN</th>\n",
       "      <th>Country_VNM</th>\n",
       "      <th>Country_ZAF</th>\n",
       "    </tr>\n",
       "  </thead>\n",
       "  <tbody>\n",
       "    <tr>\n",
       "      <th>0</th>\n",
       "      <td>91</td>\n",
       "      <td>0.711</td>\n",
       "      <td>0.0447</td>\n",
       "      <td>206020</td>\n",
       "      <td>0.809</td>\n",
       "      <td>0.000000</td>\n",
       "      <td>0.3390</td>\n",
       "      <td>-4.389</td>\n",
       "      <td>0.0955</td>\n",
       "      <td>106.017</td>\n",
       "      <td>...</td>\n",
       "      <td>False</td>\n",
       "      <td>False</td>\n",
       "      <td>False</td>\n",
       "      <td>False</td>\n",
       "      <td>False</td>\n",
       "      <td>False</td>\n",
       "      <td>False</td>\n",
       "      <td>False</td>\n",
       "      <td>False</td>\n",
       "      <td>False</td>\n",
       "    </tr>\n",
       "    <tr>\n",
       "      <th>1</th>\n",
       "      <td>100</td>\n",
       "      <td>0.750</td>\n",
       "      <td>0.2560</td>\n",
       "      <td>131872</td>\n",
       "      <td>0.733</td>\n",
       "      <td>0.000000</td>\n",
       "      <td>0.1140</td>\n",
       "      <td>-3.180</td>\n",
       "      <td>0.0319</td>\n",
       "      <td>111.018</td>\n",
       "      <td>...</td>\n",
       "      <td>False</td>\n",
       "      <td>False</td>\n",
       "      <td>False</td>\n",
       "      <td>False</td>\n",
       "      <td>False</td>\n",
       "      <td>False</td>\n",
       "      <td>False</td>\n",
       "      <td>False</td>\n",
       "      <td>False</td>\n",
       "      <td>False</td>\n",
       "    </tr>\n",
       "    <tr>\n",
       "      <th>2</th>\n",
       "      <td>99</td>\n",
       "      <td>0.537</td>\n",
       "      <td>0.8270</td>\n",
       "      <td>184061</td>\n",
       "      <td>0.421</td>\n",
       "      <td>0.000000</td>\n",
       "      <td>0.1380</td>\n",
       "      <td>-8.720</td>\n",
       "      <td>0.0285</td>\n",
       "      <td>98.224</td>\n",
       "      <td>...</td>\n",
       "      <td>False</td>\n",
       "      <td>False</td>\n",
       "      <td>False</td>\n",
       "      <td>False</td>\n",
       "      <td>False</td>\n",
       "      <td>False</td>\n",
       "      <td>False</td>\n",
       "      <td>False</td>\n",
       "      <td>False</td>\n",
       "      <td>False</td>\n",
       "    </tr>\n",
       "    <tr>\n",
       "      <th>3</th>\n",
       "      <td>82</td>\n",
       "      <td>0.790</td>\n",
       "      <td>0.3120</td>\n",
       "      <td>183551</td>\n",
       "      <td>0.831</td>\n",
       "      <td>0.000000</td>\n",
       "      <td>0.0797</td>\n",
       "      <td>-4.185</td>\n",
       "      <td>0.0440</td>\n",
       "      <td>124.987</td>\n",
       "      <td>...</td>\n",
       "      <td>False</td>\n",
       "      <td>False</td>\n",
       "      <td>False</td>\n",
       "      <td>False</td>\n",
       "      <td>False</td>\n",
       "      <td>False</td>\n",
       "      <td>False</td>\n",
       "      <td>False</td>\n",
       "      <td>False</td>\n",
       "      <td>False</td>\n",
       "    </tr>\n",
       "    <tr>\n",
       "      <th>4</th>\n",
       "      <td>93</td>\n",
       "      <td>0.596</td>\n",
       "      <td>0.0504</td>\n",
       "      <td>229478</td>\n",
       "      <td>0.658</td>\n",
       "      <td>0.000000</td>\n",
       "      <td>0.1270</td>\n",
       "      <td>-7.346</td>\n",
       "      <td>0.0360</td>\n",
       "      <td>100.012</td>\n",
       "      <td>...</td>\n",
       "      <td>False</td>\n",
       "      <td>False</td>\n",
       "      <td>False</td>\n",
       "      <td>False</td>\n",
       "      <td>False</td>\n",
       "      <td>False</td>\n",
       "      <td>False</td>\n",
       "      <td>False</td>\n",
       "      <td>False</td>\n",
       "      <td>False</td>\n",
       "    </tr>\n",
       "    <tr>\n",
       "      <th>...</th>\n",
       "      <td>...</td>\n",
       "      <td>...</td>\n",
       "      <td>...</td>\n",
       "      <td>...</td>\n",
       "      <td>...</td>\n",
       "      <td>...</td>\n",
       "      <td>...</td>\n",
       "      <td>...</td>\n",
       "      <td>...</td>\n",
       "      <td>...</td>\n",
       "      <td>...</td>\n",
       "      <td>...</td>\n",
       "      <td>...</td>\n",
       "      <td>...</td>\n",
       "      <td>...</td>\n",
       "      <td>...</td>\n",
       "      <td>...</td>\n",
       "      <td>...</td>\n",
       "      <td>...</td>\n",
       "      <td>...</td>\n",
       "      <td>...</td>\n",
       "    </tr>\n",
       "    <tr>\n",
       "      <th>3584</th>\n",
       "      <td>84</td>\n",
       "      <td>0.558</td>\n",
       "      <td>0.6110</td>\n",
       "      <td>175912</td>\n",
       "      <td>0.467</td>\n",
       "      <td>0.000000</td>\n",
       "      <td>0.1050</td>\n",
       "      <td>-6.292</td>\n",
       "      <td>0.0809</td>\n",
       "      <td>100.518</td>\n",
       "      <td>...</td>\n",
       "      <td>False</td>\n",
       "      <td>False</td>\n",
       "      <td>False</td>\n",
       "      <td>False</td>\n",
       "      <td>False</td>\n",
       "      <td>False</td>\n",
       "      <td>False</td>\n",
       "      <td>False</td>\n",
       "      <td>True</td>\n",
       "      <td>False</td>\n",
       "    </tr>\n",
       "    <tr>\n",
       "      <th>3585</th>\n",
       "      <td>63</td>\n",
       "      <td>0.443</td>\n",
       "      <td>0.8640</td>\n",
       "      <td>133562</td>\n",
       "      <td>0.371</td>\n",
       "      <td>0.780000</td>\n",
       "      <td>0.4210</td>\n",
       "      <td>-12.080</td>\n",
       "      <td>0.0377</td>\n",
       "      <td>92.468</td>\n",
       "      <td>...</td>\n",
       "      <td>False</td>\n",
       "      <td>False</td>\n",
       "      <td>False</td>\n",
       "      <td>False</td>\n",
       "      <td>False</td>\n",
       "      <td>False</td>\n",
       "      <td>False</td>\n",
       "      <td>False</td>\n",
       "      <td>True</td>\n",
       "      <td>False</td>\n",
       "    </tr>\n",
       "    <tr>\n",
       "      <th>3586</th>\n",
       "      <td>83</td>\n",
       "      <td>0.787</td>\n",
       "      <td>0.0147</td>\n",
       "      <td>179164</td>\n",
       "      <td>0.573</td>\n",
       "      <td>0.000017</td>\n",
       "      <td>0.0926</td>\n",
       "      <td>-6.197</td>\n",
       "      <td>0.0606</td>\n",
       "      <td>111.996</td>\n",
       "      <td>...</td>\n",
       "      <td>False</td>\n",
       "      <td>False</td>\n",
       "      <td>False</td>\n",
       "      <td>False</td>\n",
       "      <td>False</td>\n",
       "      <td>False</td>\n",
       "      <td>False</td>\n",
       "      <td>False</td>\n",
       "      <td>True</td>\n",
       "      <td>False</td>\n",
       "    </tr>\n",
       "    <tr>\n",
       "      <th>3587</th>\n",
       "      <td>84</td>\n",
       "      <td>0.507</td>\n",
       "      <td>0.5080</td>\n",
       "      <td>167247</td>\n",
       "      <td>0.394</td>\n",
       "      <td>0.000000</td>\n",
       "      <td>0.0825</td>\n",
       "      <td>-7.188</td>\n",
       "      <td>0.0350</td>\n",
       "      <td>77.955</td>\n",
       "      <td>...</td>\n",
       "      <td>False</td>\n",
       "      <td>False</td>\n",
       "      <td>False</td>\n",
       "      <td>False</td>\n",
       "      <td>False</td>\n",
       "      <td>False</td>\n",
       "      <td>False</td>\n",
       "      <td>False</td>\n",
       "      <td>True</td>\n",
       "      <td>False</td>\n",
       "    </tr>\n",
       "    <tr>\n",
       "      <th>3588</th>\n",
       "      <td>66</td>\n",
       "      <td>0.626</td>\n",
       "      <td>0.3620</td>\n",
       "      <td>234000</td>\n",
       "      <td>0.503</td>\n",
       "      <td>0.000001</td>\n",
       "      <td>0.0762</td>\n",
       "      <td>-8.753</td>\n",
       "      <td>0.0389</td>\n",
       "      <td>140.014</td>\n",
       "      <td>...</td>\n",
       "      <td>False</td>\n",
       "      <td>False</td>\n",
       "      <td>False</td>\n",
       "      <td>False</td>\n",
       "      <td>False</td>\n",
       "      <td>False</td>\n",
       "      <td>False</td>\n",
       "      <td>False</td>\n",
       "      <td>True</td>\n",
       "      <td>False</td>\n",
       "    </tr>\n",
       "  </tbody>\n",
       "</table>\n",
       "<p>3583 rows × 1270 columns</p>\n",
       "</div>"
      ],
      "text/plain": [
       "      Popularity  Danceability  Acousticness  duration  Energy  \\\n",
       "0             91         0.711        0.0447    206020   0.809   \n",
       "1            100         0.750        0.2560    131872   0.733   \n",
       "2             99         0.537        0.8270    184061   0.421   \n",
       "3             82         0.790        0.3120    183551   0.831   \n",
       "4             93         0.596        0.0504    229478   0.658   \n",
       "...          ...           ...           ...       ...     ...   \n",
       "3584          84         0.558        0.6110    175912   0.467   \n",
       "3585          63         0.443        0.8640    133562   0.371   \n",
       "3586          83         0.787        0.0147    179164   0.573   \n",
       "3587          84         0.507        0.5080    167247   0.394   \n",
       "3588          66         0.626        0.3620    234000   0.503   \n",
       "\n",
       "      Instrumentalness  Liveness  Loudness  Speechiness    Tempo  ...  \\\n",
       "0             0.000000    0.3390    -4.389       0.0955  106.017  ...   \n",
       "1             0.000000    0.1140    -3.180       0.0319  111.018  ...   \n",
       "2             0.000000    0.1380    -8.720       0.0285   98.224  ...   \n",
       "3             0.000000    0.0797    -4.185       0.0440  124.987  ...   \n",
       "4             0.000000    0.1270    -7.346       0.0360  100.012  ...   \n",
       "...                ...       ...       ...          ...      ...  ...   \n",
       "3584          0.000000    0.1050    -6.292       0.0809  100.518  ...   \n",
       "3585          0.780000    0.4210   -12.080       0.0377   92.468  ...   \n",
       "3586          0.000017    0.0926    -6.197       0.0606  111.996  ...   \n",
       "3587          0.000000    0.0825    -7.188       0.0350   77.955  ...   \n",
       "3588          0.000001    0.0762    -8.753       0.0389  140.014  ...   \n",
       "\n",
       "      Country_SWE  Country_THA  Country_TUR  Country_TWN  Country_UKR  \\\n",
       "0           False        False        False        False        False   \n",
       "1           False        False        False        False        False   \n",
       "2           False        False        False        False        False   \n",
       "3           False        False        False        False        False   \n",
       "4           False        False        False        False        False   \n",
       "...           ...          ...          ...          ...          ...   \n",
       "3584        False        False        False        False        False   \n",
       "3585        False        False        False        False        False   \n",
       "3586        False        False        False        False        False   \n",
       "3587        False        False        False        False        False   \n",
       "3588        False        False        False        False        False   \n",
       "\n",
       "      Country_URY  Country_USA  Country_VEN  Country_VNM  Country_ZAF  \n",
       "0           False        False        False        False        False  \n",
       "1           False        False        False        False        False  \n",
       "2           False        False        False        False        False  \n",
       "3           False        False        False        False        False  \n",
       "4           False        False        False        False        False  \n",
       "...           ...          ...          ...          ...          ...  \n",
       "3584        False        False        False         True        False  \n",
       "3585        False        False        False         True        False  \n",
       "3586        False        False        False         True        False  \n",
       "3587        False        False        False         True        False  \n",
       "3588        False        False        False         True        False  \n",
       "\n",
       "[3583 rows x 1270 columns]"
      ]
     },
     "execution_count": 496,
     "metadata": {},
     "output_type": "execute_result"
    }
   ],
   "source": [
    "path = '/Users/lucas/Desktop/spotifyProject/jupyter/data/top50.csv'\n",
    "\n",
    "drop_columns = ['Track Name', 'Album Name', 'Markets', 'Date']\n",
    "\n",
    "df = pd.read_csv(path).drop(columns='Unnamed: 0').dropna()\n",
    "df['Month'] = df.apply(gran_date,axis=1)\n",
    "df['Mode'] = df.apply(gran_mode, axis=1)\n",
    "df = df.drop(columns=drop_columns)\n",
    "df = pd.get_dummies(df, columns=['Artist Name', 'Key', 'Mode', 'TSignature', 'Month', 'Country']) # one hot encoding\n",
    "df"
   ]
  },
  {
   "cell_type": "code",
   "execution_count": 497,
   "id": "6008b3ca",
   "metadata": {},
   "outputs": [],
   "source": [
    "from sklearn.model_selection import train_test_split"
   ]
  },
  {
   "cell_type": "code",
   "execution_count": 498,
   "id": "516a5c9d",
   "metadata": {},
   "outputs": [],
   "source": [
    "train_df, test_df = train_test_split(df, test_size=0.2)\n",
    "train_df = train_df.dropna()\n",
    "test_df = test_df.dropna()"
   ]
  },
  {
   "cell_type": "code",
   "execution_count": 499,
   "id": "5dcce871",
   "metadata": {},
   "outputs": [],
   "source": [
    "y_train_df = train_df['Popularity']\n",
    "x_train_df = train_df.drop('Popularity', axis='columns')"
   ]
  },
  {
   "cell_type": "code",
   "execution_count": 500,
   "id": "6eaa65e2",
   "metadata": {},
   "outputs": [],
   "source": [
    "from sklearn.preprocessing import StandardScaler"
   ]
  },
  {
   "cell_type": "code",
   "execution_count": 501,
   "id": "65719a9f",
   "metadata": {},
   "outputs": [],
   "source": [
    "scaler_x = StandardScaler()\n",
    "scaler_y = StandardScaler()\n",
    "\n",
    "x_train_df = scaler_x.fit_transform(x_train_df.values)\n",
    "y_train_df = scaler_y.fit_transform(y_train_df.values[: , np.newaxis])"
   ]
  },
  {
   "cell_type": "code",
   "execution_count": 502,
   "id": "b44ce6b6",
   "metadata": {},
   "outputs": [],
   "source": [
    "from sklearn.linear_model import LinearRegression\n",
    "from sklearn.linear_model import Ridge\n",
    "\n",
    "from sklearn.model_selection import GridSearchCV"
   ]
  },
  {
   "cell_type": "code",
   "execution_count": 503,
   "id": "60e3dea7",
   "metadata": {},
   "outputs": [],
   "source": [
    "linear = LinearRegression(fit_intercept=False)\n",
    "\n",
    "ridge = GridSearchCV(Ridge(fit_intercept=False),\n",
    "                     cv=3,\n",
    "                     refit=True,\n",
    "                     param_grid={'alpha': [0.001, 0.01, 0.1, 1, 10, 10017]})"
   ]
  },
  {
   "cell_type": "code",
   "execution_count": 504,
   "id": "2fbebd9b",
   "metadata": {},
   "outputs": [
    {
     "data": {
      "text/plain": [
       "0.9635541199567033"
      ]
     },
     "execution_count": 504,
     "metadata": {},
     "output_type": "execute_result"
    }
   ],
   "source": [
    "# linear = linear.fit(x_train_df, y_train_df)\n",
    "ridge = ridge.fit(x_train_df, y_train_df)\n",
    "\n",
    "# linear.score(x_train_df, y_train_df)\n",
    "ridge.score(x_train_df, y_train_df)"
   ]
  },
  {
   "cell_type": "code",
   "execution_count": 505,
   "id": "50edd726",
   "metadata": {},
   "outputs": [],
   "source": [
    "from sklearn.metrics import mean_squared_error"
   ]
  },
  {
   "cell_type": "code",
   "execution_count": 506,
   "id": "fbc4246d",
   "metadata": {},
   "outputs": [
    {
     "data": {
      "text/plain": [
       "0.03644588004329673"
      ]
     },
     "execution_count": 506,
     "metadata": {},
     "output_type": "execute_result"
    }
   ],
   "source": [
    "# mean_squared_error(y_train_df, linear.predict(x_train_df))\n",
    "\n",
    "mean_squared_error(y_train_df, ridge.predict(x_train_df))"
   ]
  },
  {
   "cell_type": "code",
   "execution_count": 507,
   "id": "fd80f374",
   "metadata": {},
   "outputs": [],
   "source": [
    "def bootstrap_score(X, y, model, n=1000):\n",
    "    size = len(y)\n",
    "    samples = np.zeros(size)\n",
    "    for i in range(size):\n",
    "        idx = np.random.choice(size,size)\n",
    "        Xb = X[idx]\n",
    "        Yb = y[idx]\n",
    "        \n",
    "        error = mean_squared_error(Yb, model.predict(Xb))\n",
    "        samples[i] = error\n",
    "        \n",
    "    return samples"
   ]
  },
  {
   "cell_type": "code",
   "execution_count": 508,
   "id": "b4f44e4d",
   "metadata": {
    "scrolled": false
   },
   "outputs": [],
   "source": [
    "# samples = bootstrap_score(x_train_df, y_train_df, linear)"
   ]
  },
  {
   "cell_type": "code",
   "execution_count": 509,
   "id": "ea5ab652",
   "metadata": {},
   "outputs": [],
   "source": [
    "y_test_df = test_df['Popularity']\n",
    "x_test_df = test_df.drop('Popularity', axis='columns')"
   ]
  },
  {
   "cell_type": "code",
   "execution_count": 510,
   "id": "8665ad79",
   "metadata": {},
   "outputs": [],
   "source": [
    "x_test_df = scaler_x.transform(x_test_df.values)\n",
    "y_test_df = scaler_y.transform(y_test_df.values[:, np. newaxis])"
   ]
  },
  {
   "cell_type": "code",
   "execution_count": 511,
   "id": "77dfd041",
   "metadata": {},
   "outputs": [
    {
     "data": {
      "text/plain": [
       "0.3328633911944331"
      ]
     },
     "execution_count": 511,
     "metadata": {},
     "output_type": "execute_result"
    }
   ],
   "source": [
    "# samples = bootstrap_score(x_test_df, y_test_df, linear)\n",
    "# mean_squared_error(y_test_df, linear.predict(x_test_df))\n",
    "\n",
    "mean_squared_error(y_test_df, ridge.predict(x_test_df))"
   ]
  },
  {
   "cell_type": "code",
   "execution_count": 512,
   "id": "e4634519",
   "metadata": {},
   "outputs": [],
   "source": [
    "from sklearn.metrics import r2_score"
   ]
  },
  {
   "cell_type": "code",
   "execution_count": 513,
   "id": "462c8b60",
   "metadata": {},
   "outputs": [
    {
     "data": {
      "text/plain": [
       "0.6579696525848324"
      ]
     },
     "execution_count": 513,
     "metadata": {},
     "output_type": "execute_result"
    }
   ],
   "source": [
    "# y_pred = linear.predict(x_test_df)\n",
    "# r2_score(y_test_df, y_pred)\n",
    "\n",
    "y_pred = ridge.predict(x_test_df)\n",
    "r2_score(y_test_df, y_pred)"
   ]
  },
  {
   "cell_type": "code",
   "execution_count": 515,
   "id": "e84a3fe9",
   "metadata": {},
   "outputs": [
    {
     "name": "stdout",
     "output_type": "stream",
     "text": [
      "Intervalo de confiança: (0.24460405880070965, 0.4516576490255527)\n"
     ]
    },
    {
     "data": {
      "image/png": "[encoded data removed]",
      "text/plain": [
       "<Figure size 640x480 with 1 Axes>"
      ]
     },
     "metadata": {},
     "output_type": "display_data"
    }
   ],
   "source": [
    "import matplotlib.pyplot as plt\n",
    "from scipy import stats as ss\n",
    "\n",
    "samples = bootstrap_score(x_test_df, y_test_df, ridge)\n",
    "plt.hist(samples, edgecolor='k')\n",
    "print('Intervalo de confiança: ({}, {})'.format(ss.scoreatpercentile(samples, 2.5),\n",
    "                                                ss.scoreatpercentile(samples, 97.5)))"
   ]
  }
 ],
 "metadata": {
  "kernelspec": {
   "display_name": "Python 3 (ipykernel)",
   "language": "python",
   "name": "python3"
  },
  "language_info": {
   "codemirror_mode": {
    "name": "ipython",
    "version": 3
   },
   "file_extension": ".py",
   "mimetype": "text/x-python",
   "name": "python",
   "nbconvert_exporter": "python",
   "pygments_lexer": "ipython3",
   "version": "3.11.5"
  }
 },
 "nbformat": 4,
 "nbformat_minor": 5
}
